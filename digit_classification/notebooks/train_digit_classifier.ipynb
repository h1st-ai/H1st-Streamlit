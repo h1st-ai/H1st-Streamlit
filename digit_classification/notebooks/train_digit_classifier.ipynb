{
 "cells": [
  {
   "cell_type": "code",
   "execution_count": 1,
   "metadata": {},
   "outputs": [],
   "source": [
    "# coding: utf-8\n",
    "%load_ext autoreload\n",
    "%autoreload 2"
   ]
  },
  {
   "cell_type": "code",
   "execution_count": 2,
   "metadata": {},
   "outputs": [],
   "source": [
    "import sys\n",
    "sys.path.append(\"..\")\n",
    "sys.path.append(\"../..\")"
   ]
  },
  {
   "cell_type": "code",
   "execution_count": 3,
   "metadata": {},
   "outputs": [],
   "source": [
    "import matplotlib.pyplot as plt\n",
    "import numpy as np\n",
    "\n",
    "from digit_classification.app.ai.models.cnn_model import DigitClassifier"
   ]
  },
  {
   "cell_type": "code",
   "execution_count": 4,
   "metadata": {},
   "outputs": [],
   "source": [
    "digit_classifier = DigitClassifier()"
   ]
  },
  {
   "cell_type": "code",
   "execution_count": 5,
   "metadata": {},
   "outputs": [
    {
     "name": "stderr",
     "output_type": "stream",
     "text": [
      "INFO:absl:Load dataset info from /Users/arimo/tensorflow_datasets/mnist/3.0.1\n",
      "INFO:absl:Field info.citation from disk and from code do not match. Keeping the one from code.\n",
      "INFO:absl:Field info.splits from disk and from code do not match. Keeping the one from code.\n",
      "INFO:absl:Field info.module_name from disk and from code do not match. Keeping the one from code.\n",
      "INFO:absl:Reusing dataset mnist (/Users/arimo/tensorflow_datasets/mnist/3.0.1)\n",
      "INFO:absl:Constructing tf.data.Dataset for split ['train', 'test'], from /Users/arimo/tensorflow_datasets/mnist/3.0.1\n"
     ]
    }
   ],
   "source": [
    "loaded_data = digit_classifier.load_data()\n",
    "prepared_data = digit_classifier.prep(loaded_data)"
   ]
  },
  {
   "cell_type": "code",
   "execution_count": 6,
   "metadata": {},
   "outputs": [
    {
     "name": "stdout",
     "output_type": "stream",
     "text": [
      "Distribution of Label in Train Data\n"
     ]
    },
    {
     "data": {
      "image/png": "[encoded data removed]",
      "text/plain": [
       "<Figure size 432x288 with 1 Axes>"
      ]
     },
     "metadata": {
      "needs_background": "light"
     },
     "output_type": "display_data"
    },
    {
     "name": "stdout",
     "output_type": "stream",
     "text": [
      "Distribution of Label in Test Data\n"
     ]
    },
    {
     "data": {
      "image/png": "[encoded data removed]",
      "text/plain": [
       "<Figure size 432x288 with 1 Axes>"
      ]
     },
     "metadata": {
      "needs_background": "light"
     },
     "output_type": "display_data"
    }
   ],
   "source": [
    "digit_classifier.explore(loaded_data)"
   ]
  },
  {
   "cell_type": "code",
   "execution_count": 7,
   "metadata": {},
   "outputs": [
    {
     "name": "stdout",
     "output_type": "stream",
     "text": [
      "Epoch 1/6\n",
      "469/469 [==============================] - 22s 44ms/step - loss: 1.1332 - sparse_categorical_accuracy: 0.6569 - val_loss: 0.2014 - val_sparse_categorical_accuracy: 0.9424\n",
      "Epoch 2/6\n",
      "469/469 [==============================] - 28s 59ms/step - loss: 0.1350 - sparse_categorical_accuracy: 0.9604 - val_loss: 0.0889 - val_sparse_categorical_accuracy: 0.9719\n",
      "Epoch 3/6\n",
      "469/469 [==============================] - 28s 60ms/step - loss: 0.0827 - sparse_categorical_accuracy: 0.9752 - val_loss: 0.0738 - val_sparse_categorical_accuracy: 0.9754\n",
      "Epoch 4/6\n",
      "469/469 [==============================] - 32s 68ms/step - loss: 0.0605 - sparse_categorical_accuracy: 0.9813 - val_loss: 0.0757 - val_sparse_categorical_accuracy: 0.9758\n",
      "Epoch 5/6\n",
      "469/469 [==============================] - 33s 69ms/step - loss: 0.0470 - sparse_categorical_accuracy: 0.9855 - val_loss: 0.0847 - val_sparse_categorical_accuracy: 0.9732\n",
      "Epoch 6/6\n",
      "469/469 [==============================] - 33s 71ms/step - loss: 0.0365 - sparse_categorical_accuracy: 0.9893 - val_loss: 0.0592 - val_sparse_categorical_accuracy: 0.9816\n"
     ]
    }
   ],
   "source": [
    "digit_classifier.train(prepared_data)"
   ]
  },
  {
   "cell_type": "code",
   "execution_count": 8,
   "metadata": {},
   "outputs": [
    {
     "name": "stderr",
     "output_type": "stream",
     "text": [
      "INFO:botocore.credentials:Found credentials in shared credentials file: ~/.aws/credentials\n",
      "2021-02-01 21:44:29,907 INFO h1st.model_repository.model_repository: Saving model property...\n",
      "INFO:h1st.model_repository.model_repository:Saving model property...\n"
     ]
    },
    {
     "data": {
      "text/plain": [
       "'mnist_cnn_v1'"
      ]
     },
     "execution_count": 8,
     "metadata": {},
     "output_type": "execute_result"
    }
   ],
   "source": [
    "digit_classifier.persist('mnist_cnn_v1')"
   ]
  },
  {
   "cell_type": "code",
   "execution_count": null,
   "metadata": {},
   "outputs": [],
   "source": []
  }
 ],
 "metadata": {
  "kernelspec": {
   "display_name": "Python 3",
   "language": "python",
   "name": "python3"
  },
  "language_info": {
   "codemirror_mode": {
    "name": "ipython",
    "version": 3
   },
   "file_extension": ".py",
   "mimetype": "text/x-python",
   "name": "python",
   "nbconvert_exporter": "python",
   "pygments_lexer": "ipython3",
   "version": "3.8.7"
  },
  "toc": {
   "base_numbering": 1,
   "nav_menu": {},
   "number_sections": true,
   "sideBar": true,
   "skip_h1_title": false,
   "title_cell": "Table of Contents",
   "title_sidebar": "Contents",
   "toc_cell": false,
   "toc_position": {},
   "toc_section_display": true,
   "toc_window_display": false
  }
 },
 "nbformat": 4,
 "nbformat_minor": 4
}